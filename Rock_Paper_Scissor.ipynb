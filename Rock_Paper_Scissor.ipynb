{
 "cells": [
  {
   "cell_type": "code",
   "execution_count": 1,
   "id": "218a66b8-070d-490b-87b7-4ba0014504ac",
   "metadata": {},
   "outputs": [
    {
     "name": "stdin",
     "output_type": "stream",
     "text": [
      "Enter a choice (rock,paper,scissor) paper\n"
     ]
    },
    {
     "name": "stdout",
     "output_type": "stream",
     "text": [
      "{'player': 'paper', 'computer': 'paper'}\n"
     ]
    }
   ],
   "source": [
    "import random\n",
    "def get_choices():\n",
    "    player_choice = input(\"Enter a choice (rock,paper,scissor)\")\n",
    "    options = [\"rock\",\"paper\",\"scissor\"]\n",
    "    computer_choice = \"paper\"\n",
    "    choices = {\"player\":player_choice,\"computer\":computer_choice}\n",
    "    return choices\n",
    "choices = get_choices()\n",
    "print(choices)"
   ]
  },
  {
   "cell_type": "code",
   "execution_count": 3,
   "id": "270a4692-9192-407a-92da-05aa9a01152b",
   "metadata": {},
   "outputs": [
    {
     "name": "stdin",
     "output_type": "stream",
     "text": [
      "Enter a choice (rock,paper,scissor) paper\n"
     ]
    },
    {
     "name": "stdout",
     "output_type": "stream",
     "text": [
      "you chose  paper, computer chose paper\n"
     ]
    },
    {
     "data": {
      "text/plain": [
       "'its a tie !'"
      ]
     },
     "execution_count": 3,
     "metadata": {},
     "output_type": "execute_result"
    }
   ],
   "source": [
    "def check_win(player,computer):\n",
    "    print(f\"you chose  {player}, computer chose {computer}\")\n",
    "    if(player == computer):\n",
    "       return \"its a tie !\"\n",
    "    elif player== \"rock\":\n",
    "        if computer == \"scissor\":\n",
    "         return \"Rock smashes scissors ! you win !\"\n",
    "        else:\n",
    "         return \"Paper covers rock ! you lose\"\n",
    "    elif player == \"scissor\":\n",
    "        if computer == \"paper\":\n",
    "         return \"Scissors cut paper ! you win !\"\n",
    "        else:\n",
    "         return \"Rock smashes scissors ! you lose\"\n",
    "choices = get_choices()\n",
    "check_win(choices[\"player\"],choices[\"computer\"])\n",
    "    \n",
    "\n",
    "\n",
    "    \n",
    "    "
   ]
  },
  {
   "cell_type": "code",
   "execution_count": null,
   "id": "90140161-fffb-4861-871c-75a952200cfd",
   "metadata": {},
   "outputs": [],
   "source": []
  }
 ],
 "metadata": {
  "kernelspec": {
   "display_name": "Python [conda env:base] *",
   "language": "python",
   "name": "conda-base-py"
  },
  "language_info": {
   "codemirror_mode": {
    "name": "ipython",
    "version": 3
   },
   "file_extension": ".py",
   "mimetype": "text/x-python",
   "name": "python",
   "nbconvert_exporter": "python",
   "pygments_lexer": "ipython3",
   "version": "3.12.7"
  }
 },
 "nbformat": 4,
 "nbformat_minor": 5
}
